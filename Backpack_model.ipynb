{
 "cells": [
  {
   "cell_type": "code",
   "execution_count": 15,
   "metadata": {},
   "outputs": [],
   "source": [
    "import pandas as pd\n",
    "from sklearn.impute import SimpleImputer\n",
    "from sklearn.preprocessing import OneHotEncoder\n",
    "from sklearn.model_selection import train_test_split\n",
    "from sklearn.metrics import mean_absolute_error\n",
    "from sklearn.metrics import root_mean_squared_error\n",
    "\n",
    "from xgboost import XGBRFRegressor\n"
   ]
  },
  {
   "cell_type": "code",
   "execution_count": 2,
   "metadata": {},
   "outputs": [],
   "source": [
    "#loading the data\n",
    "\n",
    "X_train_full = pd.read_csv(\"train.csv\", index_col= \"id\")\n",
    "X_training_extra_full = pd.read_csv(\"training_extra.csv\", index_col= \"id\")\n",
    "X_test_full = pd.read_csv(\"test.csv\", index_col= \"id\")\n"
   ]
  },
  {
   "cell_type": "code",
   "execution_count": 3,
   "metadata": {},
   "outputs": [],
   "source": [
    "#setting the target and features\n",
    "\n",
    "y = X_train_full[\"Price\"]\n",
    "X = X_train_full.drop(\"Price\", axis = 1)\n",
    "\n",
    "X_train, X_val, y_train, y_val = train_test_split(X, y, train_size= 0.8, test_size= 0.2, random_state= 0)"
   ]
  },
  {
   "cell_type": "code",
   "execution_count": 4,
   "metadata": {},
   "outputs": [
    {
     "data": {
      "text/html": [
       "<div>\n",
       "<style scoped>\n",
       "    .dataframe tbody tr th:only-of-type {\n",
       "        vertical-align: middle;\n",
       "    }\n",
       "\n",
       "    .dataframe tbody tr th {\n",
       "        vertical-align: top;\n",
       "    }\n",
       "\n",
       "    .dataframe thead th {\n",
       "        text-align: right;\n",
       "    }\n",
       "</style>\n",
       "<table border=\"1\" class=\"dataframe\">\n",
       "  <thead>\n",
       "    <tr style=\"text-align: right;\">\n",
       "      <th></th>\n",
       "      <th>Brand</th>\n",
       "      <th>Material</th>\n",
       "      <th>Size</th>\n",
       "      <th>Compartments</th>\n",
       "      <th>Laptop Compartment</th>\n",
       "      <th>Waterproof</th>\n",
       "      <th>Style</th>\n",
       "      <th>Color</th>\n",
       "      <th>Weight Capacity (kg)</th>\n",
       "    </tr>\n",
       "    <tr>\n",
       "      <th>id</th>\n",
       "      <th></th>\n",
       "      <th></th>\n",
       "      <th></th>\n",
       "      <th></th>\n",
       "      <th></th>\n",
       "      <th></th>\n",
       "      <th></th>\n",
       "      <th></th>\n",
       "      <th></th>\n",
       "    </tr>\n",
       "  </thead>\n",
       "  <tbody>\n",
       "    <tr>\n",
       "      <th>154452</th>\n",
       "      <td>Under Armour</td>\n",
       "      <td>Polyester</td>\n",
       "      <td>Small</td>\n",
       "      <td>8.0</td>\n",
       "      <td>No</td>\n",
       "      <td>Yes</td>\n",
       "      <td>Backpack</td>\n",
       "      <td>Red</td>\n",
       "      <td>16.817078</td>\n",
       "    </tr>\n",
       "    <tr>\n",
       "      <th>297220</th>\n",
       "      <td>NaN</td>\n",
       "      <td>Leather</td>\n",
       "      <td>Medium</td>\n",
       "      <td>10.0</td>\n",
       "      <td>NaN</td>\n",
       "      <td>Yes</td>\n",
       "      <td>Backpack</td>\n",
       "      <td>Blue</td>\n",
       "      <td>16.750179</td>\n",
       "    </tr>\n",
       "    <tr>\n",
       "      <th>177</th>\n",
       "      <td>Under Armour</td>\n",
       "      <td>Nylon</td>\n",
       "      <td>Medium</td>\n",
       "      <td>8.0</td>\n",
       "      <td>Yes</td>\n",
       "      <td>Yes</td>\n",
       "      <td>Messenger</td>\n",
       "      <td>Green</td>\n",
       "      <td>13.262331</td>\n",
       "    </tr>\n",
       "    <tr>\n",
       "      <th>44603</th>\n",
       "      <td>Adidas</td>\n",
       "      <td>Polyester</td>\n",
       "      <td>Small</td>\n",
       "      <td>10.0</td>\n",
       "      <td>No</td>\n",
       "      <td>No</td>\n",
       "      <td>Tote</td>\n",
       "      <td>Gray</td>\n",
       "      <td>29.694404</td>\n",
       "    </tr>\n",
       "    <tr>\n",
       "      <th>158177</th>\n",
       "      <td>Puma</td>\n",
       "      <td>Nylon</td>\n",
       "      <td>Small</td>\n",
       "      <td>2.0</td>\n",
       "      <td>No</td>\n",
       "      <td>Yes</td>\n",
       "      <td>Messenger</td>\n",
       "      <td>Blue</td>\n",
       "      <td>11.291522</td>\n",
       "    </tr>\n",
       "  </tbody>\n",
       "</table>\n",
       "</div>"
      ],
      "text/plain": [
       "               Brand   Material    Size  Compartments Laptop Compartment  \\\n",
       "id                                                                         \n",
       "154452  Under Armour  Polyester   Small           8.0                 No   \n",
       "297220           NaN    Leather  Medium          10.0                NaN   \n",
       "177     Under Armour      Nylon  Medium           8.0                Yes   \n",
       "44603         Adidas  Polyester   Small          10.0                 No   \n",
       "158177          Puma      Nylon   Small           2.0                 No   \n",
       "\n",
       "       Waterproof      Style  Color  Weight Capacity (kg)  \n",
       "id                                                         \n",
       "154452        Yes   Backpack    Red             16.817078  \n",
       "297220        Yes   Backpack   Blue             16.750179  \n",
       "177           Yes  Messenger  Green             13.262331  \n",
       "44603          No       Tote   Gray             29.694404  \n",
       "158177        Yes  Messenger   Blue             11.291522  "
      ]
     },
     "execution_count": 4,
     "metadata": {},
     "output_type": "execute_result"
    }
   ],
   "source": [
    "X_train.head()"
   ]
  },
  {
   "cell_type": "code",
   "execution_count": 5,
   "metadata": {},
   "outputs": [
    {
     "data": {
      "text/plain": [
       "['Brand',\n",
       " 'Material',\n",
       " 'Size',\n",
       " 'Laptop Compartment',\n",
       " 'Waterproof',\n",
       " 'Style',\n",
       " 'Color']"
      ]
     },
     "execution_count": 5,
     "metadata": {},
     "output_type": "execute_result"
    }
   ],
   "source": [
    "#getting all obj columns in the data\n",
    "\n",
    "obj_cols = [col for col in X_train.columns if X_train[col].dtype == \"object\"]\n",
    "obj_cols\n"
   ]
  },
  {
   "cell_type": "code",
   "execution_count": 6,
   "metadata": {},
   "outputs": [
    {
     "name": "stdout",
     "output_type": "stream",
     "text": [
      "['Under Armour' nan 'Adidas' 'Puma' 'Jansport' 'Nike']\n",
      "['Polyester' 'Leather' 'Nylon' nan 'Canvas']\n",
      "['Small' 'Medium' 'Large' nan]\n",
      "['No' nan 'Yes']\n",
      "['Yes' 'No' nan]\n",
      "['Backpack' 'Messenger' 'Tote' nan]\n",
      "['Red' 'Blue' 'Green' 'Gray' 'Pink' nan 'Black']\n"
     ]
    }
   ],
   "source": [
    "#Getting all unique values found in the Object/Categorical columns\n",
    "\n",
    "unique_labels = [X_train[col].unique() for col in X_train[obj_cols]]\n",
    "\n",
    "for i in unique_labels:\n",
    "    print(i)"
   ]
  },
  {
   "cell_type": "code",
   "execution_count": 7,
   "metadata": {},
   "outputs": [],
   "source": [
    "#We select all the columns from the df that are not object type \n",
    "\n",
    "cat_X_train = X_train[obj_cols]\n",
    "cat_X_val = X_val[obj_cols]\n",
    "\n",
    "num_X_train = X_train.select_dtypes(exclude = [\"object\"])\n",
    "num_X_val = X_val.select_dtypes(exclude = [\"object\"])\n",
    "\n",
    "#numerical_X_train\n",
    "#cat_X_train\n"
   ]
  },
  {
   "cell_type": "code",
   "execution_count": 8,
   "metadata": {},
   "outputs": [
    {
     "data": {
      "text/plain": [
       "Brand                   7767\n",
       "Material                6693\n",
       "Size                    5274\n",
       "Compartments               0\n",
       "Laptop Compartment      5938\n",
       "Waterproof              5697\n",
       "Style                   6399\n",
       "Color                   7972\n",
       "Weight Capacity (kg)     110\n",
       "dtype: int64"
      ]
     },
     "execution_count": 8,
     "metadata": {},
     "output_type": "execute_result"
    }
   ],
   "source": [
    "#checking how many missing values there are in the data\n",
    "X_train.isnull().sum()"
   ]
  },
  {
   "cell_type": "code",
   "execution_count": 9,
   "metadata": {},
   "outputs": [],
   "source": [
    "cat_imputer = SimpleImputer(strategy= \"most_frequent\")\n",
    "cat_imputer.fit_transform(pd.DataFrame(X_train[obj_cols]))\n",
    "\n",
    "num_inputer = SimpleImputer(strategy= \"mean\")\n",
    "num_X_train = pd.DataFrame(num_inputer.fit_transform((num_X_train)))\n",
    "num_X_val = pd.DataFrame(num_inputer.transform(num_X_val))\n"
   ]
  },
  {
   "cell_type": "code",
   "execution_count": 10,
   "metadata": {},
   "outputs": [],
   "source": [
    "#One hot incoding the categorical columns for train and validaiton data\n",
    "OH_imputer = OneHotEncoder(handle_unknown=\"ignore\", sparse_output= False)\n",
    "\n",
    "OH_X_train_cols = pd.DataFrame(OH_imputer.fit_transform(cat_X_train))\n",
    "OH_X_val_cols = pd.DataFrame(OH_imputer.transform(cat_X_val))\n",
    "\n",
    "#putting the index back after OH incoding gets rid of them\n",
    "OH_X_train_cols.index = X_train.index\n",
    "OH_X_val_cols.index = X_val.index\n",
    "\n",
    "#setting the numemerical cols to have the same index in preparation to concatinate\n",
    "num_X_train.index = X_train.index\n",
    "num_X_val.index = X_val.index\n",
    "\n",
    "#giving the num cols their column names back\n",
    "num_X_train = num_X_train.rename(columns={0: \"Compartments\", 1: \"Weight Capacity (kg)\"})\n",
    "num_X_val = num_X_val.rename(columns={0: \"Compartments\", 1: \"Weight Capacity (kg)\"})\n",
    "\n",
    "\n",
    "\n",
    "#insuring the columns are \"str\" dtype\n",
    "OH_X_train_cols.columns = OH_X_train_cols.columns.astype(\"str\")\n",
    "OH_X_val_cols.columns = OH_X_val_cols.columns.astype(\"str\")\n",
    "\n",
    "\n",
    "#putting the new OH encoded columns together with the numerical ones\n",
    "X_train_ready = pd.concat([num_X_train, OH_X_train_cols], axis = 1)\n",
    "X_val_ready = pd.concat([num_X_val, OH_X_val_cols], axis = 1)\n",
    "\n"
   ]
  },
  {
   "cell_type": "code",
   "execution_count": 11,
   "metadata": {},
   "outputs": [
    {
     "data": {
      "text/html": [
       "<div>\n",
       "<style scoped>\n",
       "    .dataframe tbody tr th:only-of-type {\n",
       "        vertical-align: middle;\n",
       "    }\n",
       "\n",
       "    .dataframe tbody tr th {\n",
       "        vertical-align: top;\n",
       "    }\n",
       "\n",
       "    .dataframe thead th {\n",
       "        text-align: right;\n",
       "    }\n",
       "</style>\n",
       "<table border=\"1\" class=\"dataframe\">\n",
       "  <thead>\n",
       "    <tr style=\"text-align: right;\">\n",
       "      <th></th>\n",
       "      <th>Compartments</th>\n",
       "      <th>Weight Capacity (kg)</th>\n",
       "    </tr>\n",
       "    <tr>\n",
       "      <th>id</th>\n",
       "      <th></th>\n",
       "      <th></th>\n",
       "    </tr>\n",
       "  </thead>\n",
       "  <tbody>\n",
       "    <tr>\n",
       "      <th>154452</th>\n",
       "      <td>8.0</td>\n",
       "      <td>16.817078</td>\n",
       "    </tr>\n",
       "    <tr>\n",
       "      <th>297220</th>\n",
       "      <td>10.0</td>\n",
       "      <td>16.750179</td>\n",
       "    </tr>\n",
       "    <tr>\n",
       "      <th>177</th>\n",
       "      <td>8.0</td>\n",
       "      <td>13.262331</td>\n",
       "    </tr>\n",
       "    <tr>\n",
       "      <th>44603</th>\n",
       "      <td>10.0</td>\n",
       "      <td>29.694404</td>\n",
       "    </tr>\n",
       "    <tr>\n",
       "      <th>158177</th>\n",
       "      <td>2.0</td>\n",
       "      <td>11.291522</td>\n",
       "    </tr>\n",
       "    <tr>\n",
       "      <th>...</th>\n",
       "      <td>...</td>\n",
       "      <td>...</td>\n",
       "    </tr>\n",
       "    <tr>\n",
       "      <th>211543</th>\n",
       "      <td>10.0</td>\n",
       "      <td>5.000000</td>\n",
       "    </tr>\n",
       "    <tr>\n",
       "      <th>86293</th>\n",
       "      <td>1.0</td>\n",
       "      <td>26.255908</td>\n",
       "    </tr>\n",
       "    <tr>\n",
       "      <th>122579</th>\n",
       "      <td>9.0</td>\n",
       "      <td>24.351598</td>\n",
       "    </tr>\n",
       "    <tr>\n",
       "      <th>152315</th>\n",
       "      <td>5.0</td>\n",
       "      <td>12.837282</td>\n",
       "    </tr>\n",
       "    <tr>\n",
       "      <th>117952</th>\n",
       "      <td>2.0</td>\n",
       "      <td>21.527701</td>\n",
       "    </tr>\n",
       "  </tbody>\n",
       "</table>\n",
       "<p>240000 rows × 2 columns</p>\n",
       "</div>"
      ],
      "text/plain": [
       "        Compartments  Weight Capacity (kg)\n",
       "id                                        \n",
       "154452           8.0             16.817078\n",
       "297220          10.0             16.750179\n",
       "177              8.0             13.262331\n",
       "44603           10.0             29.694404\n",
       "158177           2.0             11.291522\n",
       "...              ...                   ...\n",
       "211543          10.0              5.000000\n",
       "86293            1.0             26.255908\n",
       "122579           9.0             24.351598\n",
       "152315           5.0             12.837282\n",
       "117952           2.0             21.527701\n",
       "\n",
       "[240000 rows x 2 columns]"
      ]
     },
     "execution_count": 11,
     "metadata": {},
     "output_type": "execute_result"
    }
   ],
   "source": [
    "num_X_train"
   ]
  },
  {
   "cell_type": "code",
   "execution_count": 13,
   "metadata": {},
   "outputs": [],
   "source": [
    "model = XGBRFRegressor()\n",
    "\n",
    "model.fit(X_train_ready, y_train)\n",
    "\n",
    "predictions = model.predict(X_val_ready)\n",
    "\n"
   ]
  },
  {
   "cell_type": "code",
   "execution_count": 16,
   "metadata": {},
   "outputs": [
    {
     "name": "stdout",
     "output_type": "stream",
     "text": [
      "MAE SCORE:  33.676676719129595\n",
      "\n",
      "Root Mean Squared Error Score:  38.9069589067604\n"
     ]
    }
   ],
   "source": [
    "MAE = mean_absolute_error(y_val, predictions)\n",
    "RMSE = root_mean_squared_error(y_val, predictions)\n",
    "\n",
    "print(\"MAE SCORE: \", MAE)\n",
    "print(\"\\nRoot Mean Squared Error Score: \", RMSE)"
   ]
  },
  {
   "cell_type": "code",
   "execution_count": null,
   "metadata": {},
   "outputs": [],
   "source": []
  }
 ],
 "metadata": {
  "kernelspec": {
   "display_name": "Python 3",
   "language": "python",
   "name": "python3"
  },
  "language_info": {
   "codemirror_mode": {
    "name": "ipython",
    "version": 3
   },
   "file_extension": ".py",
   "mimetype": "text/x-python",
   "name": "python",
   "nbconvert_exporter": "python",
   "pygments_lexer": "ipython3",
   "version": "3.10.4"
  }
 },
 "nbformat": 4,
 "nbformat_minor": 2
}
