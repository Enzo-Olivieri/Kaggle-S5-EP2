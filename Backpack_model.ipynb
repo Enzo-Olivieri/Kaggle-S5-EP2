{
 "cells": [
  {
   "cell_type": "code",
   "execution_count": 1,
   "metadata": {},
   "outputs": [],
   "source": [
    "import pandas as pd\n",
    "from sklearn.impute import SimpleImputer\n",
    "from sklearn.preprocessing import OneHotEncoder\n",
    "from sklearn.model_selection import train_test_split\n",
    "from sklearn.metrics import mean_absolute_error\n",
    "from sklearn.metrics import root_mean_squared_error\n",
    "\n",
    "from xgboost import XGBRFRegressor\n"
   ]
  },
  {
   "cell_type": "code",
   "execution_count": 2,
   "metadata": {},
   "outputs": [],
   "source": [
    "#loading the data\n",
    "\n",
    "#X_train_full = pd.read_csv(\"train.csv\", index_col= \"id\")\n",
    "#X_training_extra_full = pd.read_csv(\"training_extra.csv\", index_col= \"id\")\n",
    "X_test_full = pd.read_csv(\"test.csv\", index_col= \"id\")\n",
    "\n",
    "X_train_full = pd.read_csv(\"training_extra.csv\", index_col= \"id\")"
   ]
  },
  {
   "cell_type": "code",
   "execution_count": null,
   "metadata": {},
   "outputs": [],
   "source": []
  },
  {
   "cell_type": "code",
   "execution_count": 3,
   "metadata": {},
   "outputs": [],
   "source": [
    "#setting the target and features\n",
    "\n",
    "y = X_train_full[\"Price\"]\n",
    "X = X_train_full.drop(\"Price\", axis = 1)\n",
    "\n",
    "X_train, X_val, y_train, y_val = train_test_split(X, y, train_size= 0.8, test_size= 0.2, random_state= 0)"
   ]
  },
  {
   "cell_type": "code",
   "execution_count": 4,
   "metadata": {},
   "outputs": [
    {
     "data": {
      "text/html": [
       "<div>\n",
       "<style scoped>\n",
       "    .dataframe tbody tr th:only-of-type {\n",
       "        vertical-align: middle;\n",
       "    }\n",
       "\n",
       "    .dataframe tbody tr th {\n",
       "        vertical-align: top;\n",
       "    }\n",
       "\n",
       "    .dataframe thead th {\n",
       "        text-align: right;\n",
       "    }\n",
       "</style>\n",
       "<table border=\"1\" class=\"dataframe\">\n",
       "  <thead>\n",
       "    <tr style=\"text-align: right;\">\n",
       "      <th></th>\n",
       "      <th>Brand</th>\n",
       "      <th>Material</th>\n",
       "      <th>Size</th>\n",
       "      <th>Compartments</th>\n",
       "      <th>Laptop Compartment</th>\n",
       "      <th>Waterproof</th>\n",
       "      <th>Style</th>\n",
       "      <th>Color</th>\n",
       "      <th>Weight Capacity (kg)</th>\n",
       "    </tr>\n",
       "    <tr>\n",
       "      <th>id</th>\n",
       "      <th></th>\n",
       "      <th></th>\n",
       "      <th></th>\n",
       "      <th></th>\n",
       "      <th></th>\n",
       "      <th></th>\n",
       "      <th></th>\n",
       "      <th></th>\n",
       "      <th></th>\n",
       "    </tr>\n",
       "  </thead>\n",
       "  <tbody>\n",
       "    <tr>\n",
       "      <th>2164168</th>\n",
       "      <td>Jansport</td>\n",
       "      <td>Polyester</td>\n",
       "      <td>Large</td>\n",
       "      <td>5.0</td>\n",
       "      <td>No</td>\n",
       "      <td>Yes</td>\n",
       "      <td>NaN</td>\n",
       "      <td>Red</td>\n",
       "      <td>6.668811</td>\n",
       "    </tr>\n",
       "    <tr>\n",
       "      <th>2791140</th>\n",
       "      <td>Adidas</td>\n",
       "      <td>Polyester</td>\n",
       "      <td>Medium</td>\n",
       "      <td>8.0</td>\n",
       "      <td>No</td>\n",
       "      <td>No</td>\n",
       "      <td>NaN</td>\n",
       "      <td>Red</td>\n",
       "      <td>23.311326</td>\n",
       "    </tr>\n",
       "    <tr>\n",
       "      <th>2780243</th>\n",
       "      <td>Puma</td>\n",
       "      <td>Canvas</td>\n",
       "      <td>Small</td>\n",
       "      <td>7.0</td>\n",
       "      <td>No</td>\n",
       "      <td>No</td>\n",
       "      <td>Messenger</td>\n",
       "      <td>Pink</td>\n",
       "      <td>29.674513</td>\n",
       "    </tr>\n",
       "    <tr>\n",
       "      <th>4173761</th>\n",
       "      <td>Adidas</td>\n",
       "      <td>Canvas</td>\n",
       "      <td>Small</td>\n",
       "      <td>9.0</td>\n",
       "      <td>Yes</td>\n",
       "      <td>No</td>\n",
       "      <td>Tote</td>\n",
       "      <td>Gray</td>\n",
       "      <td>13.588812</td>\n",
       "    </tr>\n",
       "    <tr>\n",
       "      <th>854040</th>\n",
       "      <td>Puma</td>\n",
       "      <td>Canvas</td>\n",
       "      <td>Small</td>\n",
       "      <td>8.0</td>\n",
       "      <td>No</td>\n",
       "      <td>Yes</td>\n",
       "      <td>Messenger</td>\n",
       "      <td>Red</td>\n",
       "      <td>28.545519</td>\n",
       "    </tr>\n",
       "  </tbody>\n",
       "</table>\n",
       "</div>"
      ],
      "text/plain": [
       "            Brand   Material    Size  Compartments Laptop Compartment  \\\n",
       "id                                                                      \n",
       "2164168  Jansport  Polyester   Large           5.0                 No   \n",
       "2791140    Adidas  Polyester  Medium           8.0                 No   \n",
       "2780243      Puma     Canvas   Small           7.0                 No   \n",
       "4173761    Adidas     Canvas   Small           9.0                Yes   \n",
       "854040       Puma     Canvas   Small           8.0                 No   \n",
       "\n",
       "        Waterproof      Style Color  Weight Capacity (kg)  \n",
       "id                                                         \n",
       "2164168        Yes        NaN   Red              6.668811  \n",
       "2791140         No        NaN   Red             23.311326  \n",
       "2780243         No  Messenger  Pink             29.674513  \n",
       "4173761         No       Tote  Gray             13.588812  \n",
       "854040         Yes  Messenger   Red             28.545519  "
      ]
     },
     "execution_count": 4,
     "metadata": {},
     "output_type": "execute_result"
    }
   ],
   "source": [
    "X_train.head()"
   ]
  },
  {
   "cell_type": "code",
   "execution_count": 5,
   "metadata": {},
   "outputs": [
    {
     "data": {
      "text/plain": [
       "['Brand',\n",
       " 'Material',\n",
       " 'Size',\n",
       " 'Laptop Compartment',\n",
       " 'Waterproof',\n",
       " 'Style',\n",
       " 'Color']"
      ]
     },
     "execution_count": 5,
     "metadata": {},
     "output_type": "execute_result"
    }
   ],
   "source": [
    "#getting all obj columns in the data\n",
    "\n",
    "obj_cols = [col for col in X_train.columns if X_train[col].dtype == \"object\"]\n",
    "obj_cols\n"
   ]
  },
  {
   "cell_type": "code",
   "execution_count": 6,
   "metadata": {},
   "outputs": [
    {
     "name": "stdout",
     "output_type": "stream",
     "text": [
      "['Jansport' 'Adidas' 'Puma' 'Nike' 'Under Armour' nan]\n",
      "['Polyester' 'Canvas' 'Leather' 'Nylon' nan]\n",
      "['Large' 'Medium' 'Small' nan]\n",
      "['No' 'Yes' nan]\n",
      "['Yes' 'No' nan]\n",
      "[nan 'Messenger' 'Tote' 'Backpack']\n",
      "['Red' 'Pink' 'Gray' 'Black' 'Green' 'Blue' nan]\n"
     ]
    }
   ],
   "source": [
    "#Getting all unique values found in the Object/Categorical columns\n",
    "\n",
    "unique_labels = [X_train[col].unique() for col in X_train[obj_cols]]\n",
    "\n",
    "for i in unique_labels:\n",
    "    print(i)"
   ]
  },
  {
   "cell_type": "code",
   "execution_count": 7,
   "metadata": {},
   "outputs": [],
   "source": [
    "#We select all the columns from the df that are not object type \n",
    "\n",
    "cat_X_train = X_train[obj_cols]\n",
    "cat_X_val = X_val[obj_cols]\n",
    "\n",
    "num_X_train = X_train.select_dtypes(exclude = [\"object\"])\n",
    "num_X_val = X_val.select_dtypes(exclude = [\"object\"])\n",
    "\n",
    "#numerical_X_train\n",
    "#cat_X_train\n"
   ]
  },
  {
   "cell_type": "code",
   "execution_count": 8,
   "metadata": {},
   "outputs": [
    {
     "data": {
      "text/plain": [
       "Brand                   93537\n",
       "Material                81934\n",
       "Size                    65022\n",
       "Compartments                0\n",
       "Laptop Compartment      72918\n",
       "Waterproof              69766\n",
       "Style                   76840\n",
       "Color                   99068\n",
       "Weight Capacity (kg)     1331\n",
       "dtype: int64"
      ]
     },
     "execution_count": 8,
     "metadata": {},
     "output_type": "execute_result"
    }
   ],
   "source": [
    "#checking how many missing values there are in the data\n",
    "X_train.isnull().sum()"
   ]
  },
  {
   "cell_type": "code",
   "execution_count": 9,
   "metadata": {},
   "outputs": [],
   "source": [
    "cat_imputer = SimpleImputer(strategy= \"most_frequent\")\n",
    "cat_X_train =pd.DataFrame(cat_imputer.fit_transform(X_train[obj_cols]))\n",
    "cat_X_val = pd.DataFrame(cat_imputer.transform(X_val[obj_cols]))\n",
    "\n",
    "num_inputer = SimpleImputer(strategy= \"mean\")\n",
    "num_X_train = pd.DataFrame(num_inputer.fit_transform((num_X_train)))\n",
    "num_X_val = pd.DataFrame(num_inputer.transform(num_X_val))\n"
   ]
  },
  {
   "cell_type": "code",
   "execution_count": 10,
   "metadata": {},
   "outputs": [],
   "source": [
    "#One hot incoding the categorical columns for train and validaiton data\n",
    "OH_imputer = OneHotEncoder(handle_unknown=\"ignore\", sparse_output= False)\n",
    "\n",
    "OH_X_train_cols = pd.DataFrame(OH_imputer.fit_transform(cat_X_train))\n",
    "OH_X_val_cols = pd.DataFrame(OH_imputer.transform(cat_X_val))\n",
    "\n",
    "#putting the index back after OH incoding gets rid of them\n",
    "OH_X_train_cols.index = X_train.index\n",
    "OH_X_val_cols.index = X_val.index\n",
    "\n",
    "#setting the numemerical cols to have the same index in preparation to concatinate\n",
    "num_X_train.index = X_train.index\n",
    "num_X_val.index = X_val.index\n",
    "\n",
    "#giving the num cols their column names back\n",
    "num_X_train = num_X_train.rename(columns={0: \"Compartments\", 1: \"Weight Capacity (kg)\"})\n",
    "num_X_val = num_X_val.rename(columns={0: \"Compartments\", 1: \"Weight Capacity (kg)\"})\n",
    "\n",
    "#insuring the columns are \"str\" dtype\n",
    "OH_X_train_cols.columns = OH_X_train_cols.columns.astype(\"str\")\n",
    "OH_X_val_cols.columns = OH_X_val_cols.columns.astype(\"str\")\n",
    "\n",
    "#putting the new OH encoded columns together with the numerical ones\n",
    "X_train_ready = pd.concat([num_X_train, OH_X_train_cols], axis = 1)\n",
    "X_val_ready = pd.concat([num_X_val, OH_X_val_cols], axis = 1)"
   ]
  },
  {
   "cell_type": "code",
   "execution_count": 11,
   "metadata": {},
   "outputs": [],
   "source": [
    "model = XGBRFRegressor()\n",
    "\n",
    "model.fit(X_train_ready, y_train)\n",
    "\n",
    "predictions = model.predict(X_val_ready)"
   ]
  },
  {
   "cell_type": "code",
   "execution_count": 12,
   "metadata": {},
   "outputs": [
    {
     "name": "stdout",
     "output_type": "stream",
     "text": [
      "Root Mean Squared Error Score:  38.889697063242664\n"
     ]
    }
   ],
   "source": [
    "RMSE = root_mean_squared_error(y_val, predictions)\n",
    "print(\"Root Mean Squared Error Score: \", RMSE)"
   ]
  },
  {
   "cell_type": "markdown",
   "metadata": {},
   "source": [
    "# Submission"
   ]
  },
  {
   "cell_type": "markdown",
   "metadata": {},
   "source": [
    "## Test data preprocessing"
   ]
  },
  {
   "cell_type": "code",
   "execution_count": 13,
   "metadata": {},
   "outputs": [
    {
     "data": {
      "text/plain": [
       "Brand                   6227\n",
       "Material                5613\n",
       "Size                    4381\n",
       "Compartments               0\n",
       "Laptop Compartment      4962\n",
       "Waterproof              4811\n",
       "Style                   5153\n",
       "Color                   6785\n",
       "Weight Capacity (kg)      77\n",
       "dtype: int64"
      ]
     },
     "execution_count": 13,
     "metadata": {},
     "output_type": "execute_result"
    }
   ],
   "source": [
    "#number of nan values per column\n",
    "X_test_full.isnull().sum()"
   ]
  },
  {
   "cell_type": "code",
   "execution_count": 14,
   "metadata": {},
   "outputs": [],
   "source": [
    "cat_X_test = X_test_full[obj_cols]\n",
    "num_X_test = X_test_full.select_dtypes(exclude = [\"object\"])\n",
    "\n",
    "cat_X_test = pd.DataFrame(cat_imputer.transform(pd.DataFrame(cat_X_test)))\n",
    "num_X_test = pd.DataFrame(num_inputer.transform(num_X_test))"
   ]
  },
  {
   "cell_type": "code",
   "execution_count": 15,
   "metadata": {},
   "outputs": [],
   "source": [
    "OH_X_test_cols = pd.DataFrame(OH_imputer.fit_transform(cat_X_test))\n",
    "\n",
    "#putting the index back after OH incoding gets rid of them\n",
    "OH_X_test_cols.index = X_test_full.index\n",
    "\n",
    "#setting the numemerical cols to have the same index in preparation to concatinate\n",
    "num_X_test.index = X_test_full.index\n",
    "\n",
    "#giving the num cols their column names back\n",
    "num_X_test= num_X_test.rename(columns={0: \"Compartments\", 1: \"Weight Capacity (kg)\"})\n",
    "\n",
    "#insuring the columns are \"str\" dtype\n",
    "OH_X_test_cols.columns = OH_X_test_cols.columns.astype(\"str\")\n",
    "\n",
    "#putting the new OH encoded columns together with the numerical ones\n",
    "X_test_ready = pd.concat([num_X_test, OH_X_test_cols], axis = 1)"
   ]
  },
  {
   "cell_type": "code",
   "execution_count": 16,
   "metadata": {},
   "outputs": [],
   "source": [
    "test_prediction = model.predict(X_test_ready)"
   ]
  },
  {
   "cell_type": "code",
   "execution_count": 17,
   "metadata": {},
   "outputs": [
    {
     "data": {
      "text/html": [
       "<div>\n",
       "<style scoped>\n",
       "    .dataframe tbody tr th:only-of-type {\n",
       "        vertical-align: middle;\n",
       "    }\n",
       "\n",
       "    .dataframe tbody tr th {\n",
       "        vertical-align: top;\n",
       "    }\n",
       "\n",
       "    .dataframe thead th {\n",
       "        text-align: right;\n",
       "    }\n",
       "</style>\n",
       "<table border=\"1\" class=\"dataframe\">\n",
       "  <thead>\n",
       "    <tr style=\"text-align: right;\">\n",
       "      <th></th>\n",
       "      <th>id</th>\n",
       "      <th>Price</th>\n",
       "    </tr>\n",
       "  </thead>\n",
       "  <tbody>\n",
       "    <tr>\n",
       "      <th>0</th>\n",
       "      <td>300000</td>\n",
       "      <td>81.833290</td>\n",
       "    </tr>\n",
       "    <tr>\n",
       "      <th>1</th>\n",
       "      <td>300001</td>\n",
       "      <td>83.080635</td>\n",
       "    </tr>\n",
       "    <tr>\n",
       "      <th>2</th>\n",
       "      <td>300002</td>\n",
       "      <td>81.452499</td>\n",
       "    </tr>\n",
       "    <tr>\n",
       "      <th>3</th>\n",
       "      <td>300003</td>\n",
       "      <td>81.117950</td>\n",
       "    </tr>\n",
       "    <tr>\n",
       "      <th>4</th>\n",
       "      <td>300004</td>\n",
       "      <td>78.784607</td>\n",
       "    </tr>\n",
       "    <tr>\n",
       "      <th>...</th>\n",
       "      <td>...</td>\n",
       "      <td>...</td>\n",
       "    </tr>\n",
       "    <tr>\n",
       "      <th>199995</th>\n",
       "      <td>499995</td>\n",
       "      <td>79.698769</td>\n",
       "    </tr>\n",
       "    <tr>\n",
       "      <th>199996</th>\n",
       "      <td>499996</td>\n",
       "      <td>79.776421</td>\n",
       "    </tr>\n",
       "    <tr>\n",
       "      <th>199997</th>\n",
       "      <td>499997</td>\n",
       "      <td>82.574570</td>\n",
       "    </tr>\n",
       "    <tr>\n",
       "      <th>199998</th>\n",
       "      <td>499998</td>\n",
       "      <td>81.801010</td>\n",
       "    </tr>\n",
       "    <tr>\n",
       "      <th>199999</th>\n",
       "      <td>499999</td>\n",
       "      <td>81.264618</td>\n",
       "    </tr>\n",
       "  </tbody>\n",
       "</table>\n",
       "<p>200000 rows × 2 columns</p>\n",
       "</div>"
      ],
      "text/plain": [
       "            id      Price\n",
       "0       300000  81.833290\n",
       "1       300001  83.080635\n",
       "2       300002  81.452499\n",
       "3       300003  81.117950\n",
       "4       300004  78.784607\n",
       "...        ...        ...\n",
       "199995  499995  79.698769\n",
       "199996  499996  79.776421\n",
       "199997  499997  82.574570\n",
       "199998  499998  81.801010\n",
       "199999  499999  81.264618\n",
       "\n",
       "[200000 rows x 2 columns]"
      ]
     },
     "execution_count": 17,
     "metadata": {},
     "output_type": "execute_result"
    }
   ],
   "source": [
    "submission = pd.DataFrame({'id': X_test_full.index, 'Price': test_prediction})\n",
    "submission"
   ]
  },
  {
   "cell_type": "code",
   "execution_count": 18,
   "metadata": {},
   "outputs": [],
   "source": [
    "submission.to_csv('submission.csv', index=False)"
   ]
  }
 ],
 "metadata": {
  "kernelspec": {
   "display_name": "Python 3",
   "language": "python",
   "name": "python3"
  },
  "language_info": {
   "codemirror_mode": {
    "name": "ipython",
    "version": 3
   },
   "file_extension": ".py",
   "mimetype": "text/x-python",
   "name": "python",
   "nbconvert_exporter": "python",
   "pygments_lexer": "ipython3",
   "version": "3.10.4"
  }
 },
 "nbformat": 4,
 "nbformat_minor": 2
}
